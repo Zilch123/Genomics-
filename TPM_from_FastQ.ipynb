{
  "cells": [
    {
      "cell_type": "markdown",
      "metadata": {
        "id": "view-in-github",
        "colab_type": "text"
      },
      "source": [
        "<a href=\"https://colab.research.google.com/github/Zilch123/Genomics-/blob/main/TPM_from_FastQ.ipynb\" target=\"_parent\"><img src=\"https://colab.research.google.com/assets/colab-badge.svg\" alt=\"Open In Colab\"/></a>"
      ]
    },
    {
      "cell_type": "code",
      "source": [
        "# source: https://medium.com/@rezaeir75/from-large-fastq-files-to-small-count-tables-using-colab-academic-life-bbf86b72f2f2"
      ],
      "metadata": {
        "id": "nZPbw4-QY3Fq"
      },
      "execution_count": null,
      "outputs": []
    },
    {
      "cell_type": "code",
      "execution_count": null,
      "metadata": {
        "colab": {
          "base_uri": "https://localhost:8080/"
        },
        "id": "-cYeFKt1MKqM",
        "outputId": "49975ede-f032-4e07-91c1-b9b5eb8be5a3"
      },
      "outputs": [
        {
          "output_type": "stream",
          "name": "stdout",
          "text": [
            "--2021-12-21 09:42:10--  https://repo.anaconda.com/miniconda/Miniconda3-py37_4.8.2-Linux-x86_64.sh\n",
            "Resolving repo.anaconda.com (repo.anaconda.com)... 104.16.131.3, 104.16.130.3, 2606:4700::6810:8303, ...\n",
            "Connecting to repo.anaconda.com (repo.anaconda.com)|104.16.131.3|:443... connected.\n",
            "HTTP request sent, awaiting response... 200 OK\n",
            "Length: 85055499 (81M) [application/x-sh]\n",
            "Saving to: ‘Miniconda3-py37_4.8.2-Linux-x86_64.sh’\n",
            "\n",
            "Miniconda3-py37_4.8 100%[===================>]  81.12M   162MB/s    in 0.5s    \n",
            "\n",
            "2021-12-21 09:42:10 (162 MB/s) - ‘Miniconda3-py37_4.8.2-Linux-x86_64.sh’ saved [85055499/85055499]\n",
            "\n",
            "PREFIX=/usr/local\n",
            "Unpacking payload ...\n",
            "Collecting package metadata (current_repodata.json): - \b\b\\ \b\b| \b\bdone\n",
            "Solving environment: - \b\b\\ \b\bdone\n",
            "\n",
            "## Package Plan ##\n",
            "\n",
            "  environment location: /usr/local\n",
            "\n",
            "  added / updated specs:\n",
            "    - _libgcc_mutex==0.1=main\n",
            "    - asn1crypto==1.3.0=py37_0\n",
            "    - ca-certificates==2020.1.1=0\n",
            "    - certifi==2019.11.28=py37_0\n",
            "    - cffi==1.14.0=py37h2e261b9_0\n",
            "    - chardet==3.0.4=py37_1003\n",
            "    - conda-package-handling==1.6.0=py37h7b6447c_0\n",
            "    - conda==4.8.2=py37_0\n",
            "    - cryptography==2.8=py37h1ba5d50_0\n",
            "    - idna==2.8=py37_0\n",
            "    - ld_impl_linux-64==2.33.1=h53a641e_7\n",
            "    - libedit==3.1.20181209=hc058e9b_0\n",
            "    - libffi==3.2.1=hd88cf55_4\n",
            "    - libgcc-ng==9.1.0=hdf63c60_0\n",
            "    - libstdcxx-ng==9.1.0=hdf63c60_0\n",
            "    - ncurses==6.2=he6710b0_0\n",
            "    - openssl==1.1.1d=h7b6447c_4\n",
            "    - pip==20.0.2=py37_1\n",
            "    - pycosat==0.6.3=py37h7b6447c_0\n",
            "    - pycparser==2.19=py37_0\n",
            "    - pyopenssl==19.1.0=py37_0\n",
            "    - pysocks==1.7.1=py37_0\n",
            "    - python==3.7.6=h0371630_2\n",
            "    - readline==7.0=h7b6447c_5\n",
            "    - requests==2.22.0=py37_1\n",
            "    - ruamel_yaml==0.15.87=py37h7b6447c_0\n",
            "    - setuptools==45.2.0=py37_0\n",
            "    - six==1.14.0=py37_0\n",
            "    - sqlite==3.31.1=h7b6447c_0\n",
            "    - tk==8.6.8=hbc83047_0\n",
            "    - tqdm==4.42.1=py_0\n",
            "    - urllib3==1.25.8=py37_0\n",
            "    - wheel==0.34.2=py37_0\n",
            "    - xz==5.2.4=h14c3975_4\n",
            "    - yaml==0.1.7=had09818_2\n",
            "    - zlib==1.2.11=h7b6447c_3\n",
            "\n",
            "\n",
            "The following NEW packages will be INSTALLED:\n",
            "\n",
            "  _libgcc_mutex      pkgs/main/linux-64::_libgcc_mutex-0.1-main\n",
            "  asn1crypto         pkgs/main/linux-64::asn1crypto-1.3.0-py37_0\n",
            "  ca-certificates    pkgs/main/linux-64::ca-certificates-2020.1.1-0\n",
            "  certifi            pkgs/main/linux-64::certifi-2019.11.28-py37_0\n",
            "  cffi               pkgs/main/linux-64::cffi-1.14.0-py37h2e261b9_0\n",
            "  chardet            pkgs/main/linux-64::chardet-3.0.4-py37_1003\n",
            "  conda              pkgs/main/linux-64::conda-4.8.2-py37_0\n",
            "  conda-package-han~ pkgs/main/linux-64::conda-package-handling-1.6.0-py37h7b6447c_0\n",
            "  cryptography       pkgs/main/linux-64::cryptography-2.8-py37h1ba5d50_0\n",
            "  idna               pkgs/main/linux-64::idna-2.8-py37_0\n",
            "  ld_impl_linux-64   pkgs/main/linux-64::ld_impl_linux-64-2.33.1-h53a641e_7\n",
            "  libedit            pkgs/main/linux-64::libedit-3.1.20181209-hc058e9b_0\n",
            "  libffi             pkgs/main/linux-64::libffi-3.2.1-hd88cf55_4\n",
            "  libgcc-ng          pkgs/main/linux-64::libgcc-ng-9.1.0-hdf63c60_0\n",
            "  libstdcxx-ng       pkgs/main/linux-64::libstdcxx-ng-9.1.0-hdf63c60_0\n",
            "  ncurses            pkgs/main/linux-64::ncurses-6.2-he6710b0_0\n",
            "  openssl            pkgs/main/linux-64::openssl-1.1.1d-h7b6447c_4\n",
            "  pip                pkgs/main/linux-64::pip-20.0.2-py37_1\n",
            "  pycosat            pkgs/main/linux-64::pycosat-0.6.3-py37h7b6447c_0\n",
            "  pycparser          pkgs/main/linux-64::pycparser-2.19-py37_0\n",
            "  pyopenssl          pkgs/main/linux-64::pyopenssl-19.1.0-py37_0\n",
            "  pysocks            pkgs/main/linux-64::pysocks-1.7.1-py37_0\n",
            "  python             pkgs/main/linux-64::python-3.7.6-h0371630_2\n",
            "  readline           pkgs/main/linux-64::readline-7.0-h7b6447c_5\n",
            "  requests           pkgs/main/linux-64::requests-2.22.0-py37_1\n",
            "  ruamel_yaml        pkgs/main/linux-64::ruamel_yaml-0.15.87-py37h7b6447c_0\n",
            "  setuptools         pkgs/main/linux-64::setuptools-45.2.0-py37_0\n",
            "  six                pkgs/main/linux-64::six-1.14.0-py37_0\n",
            "  sqlite             pkgs/main/linux-64::sqlite-3.31.1-h7b6447c_0\n",
            "  tk                 pkgs/main/linux-64::tk-8.6.8-hbc83047_0\n",
            "  tqdm               pkgs/main/noarch::tqdm-4.42.1-py_0\n",
            "  urllib3            pkgs/main/linux-64::urllib3-1.25.8-py37_0\n",
            "  wheel              pkgs/main/linux-64::wheel-0.34.2-py37_0\n",
            "  xz                 pkgs/main/linux-64::xz-5.2.4-h14c3975_4\n",
            "  yaml               pkgs/main/linux-64::yaml-0.1.7-had09818_2\n",
            "  zlib               pkgs/main/linux-64::zlib-1.2.11-h7b6447c_3\n",
            "\n",
            "\n",
            "Preparing transaction: / \b\b- \b\b\\ \b\b| \b\bdone\n",
            "Executing transaction: - \b\b\\ \b\b| \b\b/ \b\b- \b\b\\ \b\b| \b\b/ \b\b- \b\b\\ \b\b| \b\b/ \b\b- \b\b\\ \b\b| \b\b/ \b\b- \b\bdone\n",
            "installation finished.\n",
            "WARNING:\n",
            "    You currently have a PYTHONPATH environment variable set. This may cause\n",
            "    unexpected behavior when running the Python interpreter in Miniconda3.\n",
            "    For best results, please verify that your PYTHONPATH only points to\n",
            "    directories of packages that are compatible with the Python interpreter\n",
            "    in Miniconda3: /usr/local\n"
          ]
        }
      ],
      "source": [
        "! wget https://repo.anaconda.com/miniconda/Miniconda3-py37_4.8.2-Linux-x86_64.sh\n",
        "! chmod +x Miniconda3-py37_4.8.2-Linux-x86_64.sh \n",
        "! bash ./Miniconda3-py37_4.8.2-Linux-x86_64.sh -b -f -p /usr/local \n",
        "import sys \n",
        "sys.path.append('/usr/local/lib/python3.7/site-packages/')"
      ]
    },
    {
      "cell_type": "code",
      "execution_count": null,
      "metadata": {
        "colab": {
          "base_uri": "https://localhost:8080/",
          "height": 1000
        },
        "id": "P-4A40yKMjW1",
        "outputId": "ffddf836-001a-42d3-eaaf-5304f7d72bed"
      },
      "outputs": [
        {
          "output_type": "stream",
          "name": "stdout",
          "text": [
            "Collecting package metadata (current_repodata.json): - \b\b\\ \b\b| \b\b/ \b\b- \b\b\\ \b\b| \b\b/ \b\b- \b\b\\ \b\b| \b\b/ \b\b- \b\b\\ \b\b| \b\b/ \b\b- \b\b\\ \b\b| \b\b/ \b\b- \b\b\\ \b\b| \b\b/ \b\b- \b\b\\ \b\b| \b\b/ \b\b- \b\b\\ \b\b| \b\b/ \b\b- \b\b\\ \b\b| \b\b/ \b\b- \b\b\\ \b\b| \b\b/ \b\b- \b\b\\ \b\bdone\n",
            "Solving environment: / \b\b- \b\b\\ \b\b| \b\bdone\n",
            "\n",
            "## Package Plan ##\n",
            "\n",
            "  environment location: /usr/local\n",
            "\n",
            "  added / updated specs:\n",
            "    - fastqc\n",
            "\n",
            "\n",
            "The following packages will be downloaded:\n",
            "\n",
            "    package                    |            build\n",
            "    ---------------------------|-----------------\n",
            "    ca-certificates-2021.10.26 |       h06a4308_2         115 KB\n",
            "    certifi-2021.10.8          |   py37h06a4308_0         151 KB\n",
            "    conda-4.11.0               |   py37h06a4308_0        14.4 MB\n",
            "    fastqc-0.11.8              |                0         9.6 MB  bioconda\n",
            "    openjdk-8.0.152            |       h7b6447c_3        57.4 MB\n",
            "    openssl-1.1.1l             |       h7f8727e_0         2.5 MB\n",
            "    perl-5.26.2                |       h14c3975_0        10.5 MB\n",
            "    ------------------------------------------------------------\n",
            "                                           Total:        94.6 MB\n",
            "\n",
            "The following NEW packages will be INSTALLED:\n",
            "\n",
            "  fastqc             bioconda/linux-64::fastqc-0.11.8-0\n",
            "  openjdk            pkgs/main/linux-64::openjdk-8.0.152-h7b6447c_3\n",
            "  perl               pkgs/main/linux-64::perl-5.26.2-h14c3975_0\n",
            "\n",
            "The following packages will be UPDATED:\n",
            "\n",
            "  ca-certificates                                2020.1.1-0 --> 2021.10.26-h06a4308_2\n",
            "  certifi                                 2019.11.28-py37_0 --> 2021.10.8-py37h06a4308_0\n",
            "  conda                                        4.8.2-py37_0 --> 4.11.0-py37h06a4308_0\n",
            "  openssl                                 1.1.1d-h7b6447c_4 --> 1.1.1l-h7f8727e_0\n",
            "\n",
            "\n",
            "\n",
            "Downloading and Extracting Packages\n",
            "certifi-2021.10.8    | 151 KB    | : 100% 1.0/1 [00:00<00:00,  6.82it/s]               \n",
            "perl-5.26.2          | 10.5 MB   | : 100% 1.0/1 [00:00<00:00,  2.16it/s]               \n",
            "conda-4.11.0         | 14.4 MB   | : 100% 1.0/1 [00:00<00:00,  1.56it/s]               \n",
            "openssl-1.1.1l       | 2.5 MB    | : 100% 1.0/1 [00:00<00:00,  6.22it/s]\n",
            "fastqc-0.11.8        | 9.6 MB    | : 100% 1.0/1 [00:01<00:00, 48.23s/it]               \n",
            "ca-certificates-2021 | 115 KB    | : 100% 1.0/1 [00:00<00:00, 13.89it/s]\n",
            "openjdk-8.0.152      | 57.4 MB   | : 100% 1.0/1 [00:02<00:00,  2.91s/it]              \n",
            "Preparing transaction: - \b\b\\ \b\bdone\n",
            "Verifying transaction: / \b\b- \b\b\\ \b\b| \b\b/ \b\b- \b\bdone\n",
            "Executing transaction: | \b\b/ \b\b- \b\b\\ \b\b| \b\b/ \b\bdone\n",
            "Collecting multiqc\n",
            "  Downloading multiqc-1.11-py3-none-any.whl (1.2 MB)\n",
            "\u001b[K     |████████████████████████████████| 1.2 MB 5.5 MB/s \n",
            "\u001b[?25hCollecting coloredlogs\n",
            "  Downloading coloredlogs-15.0.1-py2.py3-none-any.whl (46 kB)\n",
            "\u001b[K     |████████████████████████████████| 46 kB 1.9 MB/s \n",
            "\u001b[?25hCollecting numpy\n",
            "  Downloading numpy-1.21.5-cp37-cp37m-manylinux_2_12_x86_64.manylinux2010_x86_64.whl (15.7 MB)\n",
            "\u001b[K     |████████████████████████████████| 15.7 MB 133 kB/s \n",
            "\u001b[?25hCollecting click\n",
            "  Downloading click-8.0.3-py3-none-any.whl (97 kB)\n",
            "\u001b[K     |████████████████████████████████| 97 kB 5.3 MB/s \n",
            "\u001b[?25hCollecting future>0.14.0\n",
            "  Downloading future-0.18.2.tar.gz (829 kB)\n",
            "\u001b[K     |████████████████████████████████| 829 kB 25.9 MB/s \n",
            "\u001b[?25hCollecting matplotlib>=2.1.1\n",
            "  Downloading matplotlib-3.5.1-cp37-cp37m-manylinux_2_5_x86_64.manylinux1_x86_64.whl (11.2 MB)\n",
            "\u001b[K     |████████████████████████████████| 11.2 MB 25.6 MB/s \n",
            "\u001b[?25hCollecting jinja2>=2.9\n",
            "  Downloading Jinja2-3.0.3-py3-none-any.whl (133 kB)\n",
            "\u001b[K     |████████████████████████████████| 133 kB 40.1 MB/s \n",
            "\u001b[?25hCollecting markdown\n",
            "  Downloading Markdown-3.3.6-py3-none-any.whl (97 kB)\n",
            "\u001b[K     |████████████████████████████████| 97 kB 5.6 MB/s \n",
            "\u001b[?25hCollecting pyyaml>=4\n",
            "  Downloading PyYAML-6.0-cp37-cp37m-manylinux_2_5_x86_64.manylinux1_x86_64.manylinux_2_12_x86_64.manylinux2010_x86_64.whl (596 kB)\n",
            "\u001b[K     |████████████████████████████████| 596 kB 24.8 MB/s \n",
            "\u001b[?25hRequirement already satisfied: requests in /usr/local/lib/python3.7/site-packages (from multiqc) (2.22.0)\n",
            "Collecting networkx>=2.5.1\n",
            "  Downloading networkx-2.6.3-py3-none-any.whl (1.9 MB)\n",
            "\u001b[K     |████████████████████████████████| 1.9 MB 25.0 MB/s \n",
            "\u001b[?25hCollecting simplejson\n",
            "  Downloading simplejson-3.17.6-cp37-cp37m-manylinux_2_5_x86_64.manylinux1_x86_64.manylinux_2_12_x86_64.manylinux2010_x86_64.whl (130 kB)\n",
            "\u001b[K     |████████████████████████████████| 130 kB 44.9 MB/s \n",
            "\u001b[?25hCollecting rich>=10\n",
            "  Downloading rich-10.16.1-py3-none-any.whl (214 kB)\n",
            "\u001b[K     |████████████████████████████████| 214 kB 26.6 MB/s \n",
            "\u001b[?25hCollecting lzstring\n",
            "  Downloading lzstring-1.0.4.tar.gz (4.3 kB)\n",
            "Collecting spectra>=0.0.10\n",
            "  Downloading spectra-0.0.11.tar.gz (18 kB)\n",
            "Collecting humanfriendly>=9.1\n",
            "  Downloading humanfriendly-10.0-py2.py3-none-any.whl (86 kB)\n",
            "\u001b[K     |████████████████████████████████| 86 kB 4.1 MB/s \n",
            "\u001b[?25hCollecting importlib-metadata; python_version < \"3.8\"\n",
            "  Downloading importlib_metadata-4.10.0-py3-none-any.whl (17 kB)\n",
            "Collecting kiwisolver>=1.0.1\n",
            "  Downloading kiwisolver-1.3.2-cp37-cp37m-manylinux_2_5_x86_64.manylinux1_x86_64.whl (1.1 MB)\n",
            "\u001b[K     |████████████████████████████████| 1.1 MB 39.7 MB/s \n",
            "\u001b[?25hCollecting cycler>=0.10\n",
            "  Downloading cycler-0.11.0-py3-none-any.whl (6.4 kB)\n",
            "Collecting pillow>=6.2.0\n",
            "  Downloading Pillow-8.4.0-cp37-cp37m-manylinux_2_17_x86_64.manylinux2014_x86_64.whl (3.1 MB)\n",
            "\u001b[K     |████████████████████████████████| 3.1 MB 33.9 MB/s \n",
            "\u001b[?25hCollecting pyparsing>=2.2.1\n",
            "  Downloading pyparsing-3.0.6-py3-none-any.whl (97 kB)\n",
            "\u001b[K     |████████████████████████████████| 97 kB 5.6 MB/s \n",
            "\u001b[?25hCollecting python-dateutil>=2.7\n",
            "  Downloading python_dateutil-2.8.2-py2.py3-none-any.whl (247 kB)\n",
            "\u001b[K     |████████████████████████████████| 247 kB 51.3 MB/s \n",
            "\u001b[?25hCollecting fonttools>=4.22.0\n",
            "  Downloading fonttools-4.28.5-py3-none-any.whl (890 kB)\n",
            "\u001b[K     |████████████████████████████████| 890 kB 41.0 MB/s \n",
            "\u001b[?25hCollecting packaging>=20.0\n",
            "  Downloading packaging-21.3-py3-none-any.whl (40 kB)\n",
            "\u001b[K     |████████████████████████████████| 40 kB 4.5 MB/s \n",
            "\u001b[?25hCollecting MarkupSafe>=2.0\n",
            "  Downloading MarkupSafe-2.0.1-cp37-cp37m-manylinux2010_x86_64.whl (31 kB)\n",
            "Requirement already satisfied: certifi>=2017.4.17 in /usr/local/lib/python3.7/site-packages (from requests->multiqc) (2021.10.8)\n",
            "Requirement already satisfied: idna<2.9,>=2.5 in /usr/local/lib/python3.7/site-packages (from requests->multiqc) (2.8)\n",
            "Requirement already satisfied: chardet<3.1.0,>=3.0.2 in /usr/local/lib/python3.7/site-packages (from requests->multiqc) (3.0.4)\n",
            "Requirement already satisfied: urllib3!=1.25.0,!=1.25.1,<1.26,>=1.21.1 in /usr/local/lib/python3.7/site-packages (from requests->multiqc) (1.25.8)\n",
            "Collecting commonmark<0.10.0,>=0.9.0\n",
            "  Downloading commonmark-0.9.1-py2.py3-none-any.whl (51 kB)\n",
            "\u001b[K     |████████████████████████████████| 51 kB 5.7 MB/s \n",
            "\u001b[?25hCollecting pygments<3.0.0,>=2.6.0\n",
            "  Downloading Pygments-2.10.0-py3-none-any.whl (1.0 MB)\n",
            "\u001b[K     |████████████████████████████████| 1.0 MB 19.7 MB/s \n",
            "\u001b[?25hCollecting colorama<0.5.0,>=0.4.0\n",
            "  Downloading colorama-0.4.4-py2.py3-none-any.whl (16 kB)\n",
            "Collecting typing-extensions<5.0,>=3.7.4; python_version < \"3.8\"\n",
            "  Downloading typing_extensions-4.0.1-py3-none-any.whl (22 kB)\n",
            "Collecting colormath>=3.0.0\n",
            "  Downloading colormath-3.0.0.tar.gz (39 kB)\n",
            "Collecting zipp>=0.5\n",
            "  Downloading zipp-3.6.0-py3-none-any.whl (5.3 kB)\n",
            "Requirement already satisfied: six>=1.5 in /usr/local/lib/python3.7/site-packages (from python-dateutil>=2.7->matplotlib>=2.1.1->multiqc) (1.14.0)\n",
            "Building wheels for collected packages: future, lzstring, spectra, colormath\n",
            "  Building wheel for future (setup.py) ... \u001b[?25l\u001b[?25hdone\n",
            "  Created wheel for future: filename=future-0.18.2-py3-none-any.whl size=491058 sha256=e809f108e249164fb2e78ae9ad649191590a4d610fef7d170ab768013254d1f4\n",
            "  Stored in directory: /root/.cache/pip/wheels/56/b0/fe/4410d17b32f1f0c3cf54cdfb2bc04d7b4b8f4ae377e2229ba0\n",
            "  Building wheel for lzstring (setup.py) ... \u001b[?25l\u001b[?25hdone\n",
            "  Created wheel for lzstring: filename=lzstring-1.0.4-py2.py3-none-any.whl size=4574 sha256=2482eb545b013490c218cf67d147c673e0401069cfb4226eb1146959c76a29ab\n",
            "  Stored in directory: /root/.cache/pip/wheels/f1/e0/9f/2d1e57842b9e3a9f030519f6ea5e55a21ba7d4f5bcbb4ef578\n",
            "  Building wheel for spectra (setup.py) ... \u001b[?25l\u001b[?25hdone\n",
            "  Created wheel for spectra: filename=spectra-0.0.11-py3-none-any.whl size=17471 sha256=5810e24a6f4b31127107cd98b0be6b045fe51b5544cb5e1d9b8bbb6c115c13b8\n",
            "  Stored in directory: /root/.cache/pip/wheels/e3/c8/a4/5a566fafff827fcb5741589e42002686bb29990fbc7b262b5e\n",
            "  Building wheel for colormath (setup.py) ... \u001b[?25l\u001b[?25hdone\n",
            "  Created wheel for colormath: filename=colormath-3.0.0-py3-none-any.whl size=39389 sha256=13760fd94df2af1f395f0b6d3f7eae71b593219ca473674cc279a1f4d4857bb8\n",
            "  Stored in directory: /root/.cache/pip/wheels/1a/d7/a7/458a4632ccc8bfe436f5e9db9fef1aa84e5d243a1b4b4c7b59\n",
            "Successfully built future lzstring spectra colormath\n",
            "Installing collected packages: humanfriendly, coloredlogs, numpy, zipp, typing-extensions, importlib-metadata, click, future, kiwisolver, cycler, pillow, pyparsing, python-dateutil, fonttools, packaging, matplotlib, MarkupSafe, jinja2, markdown, pyyaml, networkx, simplejson, commonmark, pygments, colorama, rich, lzstring, colormath, spectra, multiqc\n",
            "Successfully installed MarkupSafe-2.0.1 click-8.0.3 colorama-0.4.4 coloredlogs-15.0.1 colormath-3.0.0 commonmark-0.9.1 cycler-0.11.0 fonttools-4.28.5 future-0.18.2 humanfriendly-10.0 importlib-metadata-4.10.0 jinja2-3.0.3 kiwisolver-1.3.2 lzstring-1.0.4 markdown-3.3.6 matplotlib-3.5.1 multiqc-1.11 networkx-2.6.3 numpy-1.21.5 packaging-21.3 pillow-8.4.0 pygments-2.10.0 pyparsing-3.0.6 python-dateutil-2.8.2 pyyaml-6.0 rich-10.16.1 simplejson-3.17.6 spectra-0.0.11 typing-extensions-4.0.1 zipp-3.6.0\n"
          ]
        },
        {
          "output_type": "display_data",
          "data": {
            "application/vnd.colab-display-data+json": {
              "pip_warning": {
                "packages": [
                  "cycler",
                  "dateutil",
                  "kiwisolver",
                  "pyparsing"
                ]
              }
            }
          },
          "metadata": {}
        },
        {
          "output_type": "stream",
          "name": "stdout",
          "text": [
            "Collecting package metadata (current_repodata.json): - \b\b\\ \b\b| \b\b/ \b\b- \b\b\\ \b\b| \b\b/ \b\b- \b\b\\ \b\b| \b\b/ \b\b- \b\b\\ \b\bdone\n",
            "Solving environment: / \b\b- \b\b\\ \b\b| \b\bdone\n",
            "\n",
            "## Package Plan ##\n",
            "\n",
            "  environment location: /usr/local\n",
            "\n",
            "  added / updated specs:\n",
            "    - trimmomatic\n",
            "\n",
            "\n",
            "The following packages will be downloaded:\n",
            "\n",
            "    package                    |            build\n",
            "    ---------------------------|-----------------\n",
            "    trimmomatic-0.39           |       hdfd78af_2         144 KB  bioconda\n",
            "    ------------------------------------------------------------\n",
            "                                           Total:         144 KB\n",
            "\n",
            "The following NEW packages will be INSTALLED:\n",
            "\n",
            "  trimmomatic        bioconda/noarch::trimmomatic-0.39-hdfd78af_2\n",
            "\n",
            "\n",
            "\n",
            "Downloading and Extracting Packages\n",
            "trimmomatic-0.39     | 144 KB    | : 100% 1.0/1 [00:00<00:00,  5.26it/s]                \n",
            "Preparing transaction: - \b\bdone\n",
            "Verifying transaction: | \b\bdone\n",
            "Executing transaction: - \b\bdone\n",
            "Collecting package metadata (current_repodata.json): - \b\b\\ \b\b| \b\b/ \b\b- \b\b\\ \b\b| \b\b/ \b\b- \b\b\\ \b\bdone\n",
            "Solving environment: / \b\b- \b\b\\ \b\bdone\n",
            "\n",
            "## Package Plan ##\n",
            "\n",
            "  environment location: /usr/local\n",
            "\n",
            "  added / updated specs:\n",
            "    - kallisto\n",
            "\n",
            "\n",
            "The following packages will be downloaded:\n",
            "\n",
            "    package                    |            build\n",
            "    ---------------------------|-----------------\n",
            "    hdf5-1.10.2                |       hba1933b_1         3.8 MB\n",
            "    kallisto-0.44.0            |       h7d86c95_2         384 KB  bioconda\n",
            "    libgfortran-ng-7.5.0       |      ha8ba4b0_17          22 KB\n",
            "    libgfortran4-7.5.0         |      ha8ba4b0_17         995 KB\n",
            "    ------------------------------------------------------------\n",
            "                                           Total:         5.2 MB\n",
            "\n",
            "The following NEW packages will be INSTALLED:\n",
            "\n",
            "  hdf5               pkgs/main/linux-64::hdf5-1.10.2-hba1933b_1\n",
            "  kallisto           bioconda/linux-64::kallisto-0.44.0-h7d86c95_2\n",
            "  libgfortran-ng     pkgs/main/linux-64::libgfortran-ng-7.5.0-ha8ba4b0_17\n",
            "  libgfortran4       pkgs/main/linux-64::libgfortran4-7.5.0-ha8ba4b0_17\n",
            "\n",
            "\n",
            "\n",
            "Downloading and Extracting Packages\n",
            "libgfortran-ng-7.5.0 | 22 KB     | : 100% 1.0/1 [00:00<00:00,  8.86it/s]\n",
            "libgfortran4-7.5.0   | 995 KB    | : 100% 1.0/1 [00:00<00:00,  6.44it/s]\n",
            "hdf5-1.10.2          | 3.8 MB    | : 100% 1.0/1 [00:00<00:00,  3.66it/s]\n",
            "kallisto-0.44.0      | 384 KB    | : 100% 1.0/1 [00:00<00:00,  2.43it/s]\n",
            "Preparing transaction: / \b\bdone\n",
            "Verifying transaction: \\ \b\b| \b\bdone\n",
            "Executing transaction: - \b\bdone\n"
          ]
        }
      ],
      "source": [
        "# FastQC is a program designed to spot potential problems in high throughput sequencing datasets. \n",
        "!conda install -c bioconda fastqc -y\n",
        "# Multiqc can aggregate and summarize all the QC data and alignment log data in one file \n",
        "!pip install multiqc\n",
        "# Trimmomatic: A flexible read trimming tool for Illumina NGS data \n",
        "! conda install -c bioconda trimmomatic -y\n",
        "# Kallisto is a program for quantifying abundances of transcripts from RNA-Seq data, or more generally of target sequences using high-throughput sequencing reads \n",
        "! conda install -c bioconda kallisto -y"
      ]
    },
    {
      "cell_type": "code",
      "source": [
        "!wget -q https://caltech.box.com/shared/static/9u2qk1uqu6py03phooe1ti0kjd9v87pu.txt -O checksums.txt\n",
        "!wget -q https://caltech.box.com/shared/static/w9ww8et5o029s2e3usjzpbq8lpot29rh.gz -O SRR8599150_S1_L001_R1_001.fastq.gz\n",
        "!wget -q https://caltech.box.com/shared/static/ql00zyvqnpy7bf8ogdoe9zfy907guzy9.gz -O SRR8599150_S1_L001_R2_001.fastq.gz"
      ],
      "metadata": {
        "id": "gdETrmFHYCDt"
      },
      "execution_count": null,
      "outputs": []
    },
    {
      "cell_type": "code",
      "source": [
        "#@title\n",
        "!md5sum -c checksums.txt --ignore-missing"
      ],
      "metadata": {
        "colab": {
          "base_uri": "https://localhost:8080/"
        },
        "id": "4DQ0zXHEYHKq",
        "outputId": "0cf8c0ce-fab3-441e-b3b4-8f89379b8efc"
      },
      "execution_count": null,
      "outputs": [
        {
          "output_type": "stream",
          "name": "stdout",
          "text": [
            "SRR8599150_S1_L001_R1_001.fastq.gz: OK\n",
            "SRR8599150_S1_L001_R2_001.fastq.gz: OK\n"
          ]
        }
      ]
    },
    {
      "cell_type": "code",
      "source": [
        "!ls"
      ],
      "metadata": {
        "colab": {
          "base_uri": "https://localhost:8080/"
        },
        "id": "ngdEICBuYlru",
        "outputId": "57489de7-f68b-4052-999f-02cceff81ae3"
      },
      "execution_count": null,
      "outputs": [
        {
          "output_type": "stream",
          "name": "stdout",
          "text": [
            "checksums.txt\t\t\t       SRR8599150_S1_L001_R1_001.fastq.gz\n",
            "Miniconda3-py37_4.8.2-Linux-x86_64.sh  SRR8599150_S1_L001_R2_001.fastq.gz\n",
            "sample_data\n"
          ]
        }
      ]
    },
    {
      "cell_type": "code",
      "execution_count": null,
      "metadata": {
        "colab": {
          "base_uri": "https://localhost:8080/"
        },
        "id": "QgbBgAHgMxt1",
        "outputId": "bae8fbdb-6d32-4a67-c5d5-043522ff6103",
        "cellView": "form"
      },
      "outputs": [
        {
          "name": "stdout",
          "output_type": "stream",
          "text": [
            "  % Total    % Received % Xferd  Average Speed   Time    Time     Time  Current\n",
            "                                 Dload  Upload   Total   Spent    Left  Speed\n",
            "100 10.5G  100 10.5G    0     0  8952k      0  0:20:33  0:20:33 --:--:-- 30.0M\n"
          ]
        }
      ],
      "source": [
        "#@title\n",
        "# __________________Too big___________________10GB \n",
        "\n",
        "# get the link to all files from SRA Explorer \n",
        "# https://www.ebi.ac.uk/ena/browser/view/SRR121576?show=reads\n",
        "\n",
        "# '''Organism: Homo Sapiens (Human)\n",
        "# Sample Accession:SAMN00217108\n",
        "# Instrument Platform:ABI_SOLID\n",
        "# Instrument Model:AB SOLiD System 2.0\n",
        "# Read Count:255130903\n",
        "# Base Count:8929581605\n",
        "# Center Name:GEO\n",
        "# Library Layout:SINGLE\n",
        "# Library Strategy:RNA-Seq\n",
        "# Library Source:TRANSCRIPTOMIC'''\n",
        "\n",
        "# !curl -L ftp://ftp.sra.ebi.ac.uk/vol1/fastq/SRR121/SRR121576/SRR121576.fastq.gz -O"
      ]
    },
    {
      "cell_type": "code",
      "execution_count": null,
      "metadata": {
        "colab": {
          "base_uri": "https://localhost:8080/"
        },
        "id": "xgsjUfpiQ3iV",
        "outputId": "a3cebaf4-ed50-49f1-f750-7e6bf6888b0d"
      },
      "outputs": [
        {
          "output_type": "stream",
          "name": "stdout",
          "text": [
            "Started analysis of SRR8599150_S1_L001_R1_001.fastq.gz\n",
            "Approx 5% complete for SRR8599150_S1_L001_R1_001.fastq.gz\n",
            "Approx 10% complete for SRR8599150_S1_L001_R1_001.fastq.gz\n",
            "Approx 15% complete for SRR8599150_S1_L001_R1_001.fastq.gz\n",
            "Approx 20% complete for SRR8599150_S1_L001_R1_001.fastq.gz\n",
            "Approx 25% complete for SRR8599150_S1_L001_R1_001.fastq.gz\n",
            "Approx 30% complete for SRR8599150_S1_L001_R1_001.fastq.gz\n",
            "Approx 35% complete for SRR8599150_S1_L001_R1_001.fastq.gz\n",
            "Approx 40% complete for SRR8599150_S1_L001_R1_001.fastq.gz\n",
            "Approx 45% complete for SRR8599150_S1_L001_R1_001.fastq.gz\n",
            "Approx 50% complete for SRR8599150_S1_L001_R1_001.fastq.gz\n",
            "Approx 55% complete for SRR8599150_S1_L001_R1_001.fastq.gz\n",
            "Approx 60% complete for SRR8599150_S1_L001_R1_001.fastq.gz\n",
            "Approx 65% complete for SRR8599150_S1_L001_R1_001.fastq.gz\n",
            "Approx 70% complete for SRR8599150_S1_L001_R1_001.fastq.gz\n",
            "Approx 75% complete for SRR8599150_S1_L001_R1_001.fastq.gz\n",
            "Approx 80% complete for SRR8599150_S1_L001_R1_001.fastq.gz\n",
            "Approx 85% complete for SRR8599150_S1_L001_R1_001.fastq.gz\n",
            "Approx 90% complete for SRR8599150_S1_L001_R1_001.fastq.gz\n",
            "Approx 95% complete for SRR8599150_S1_L001_R1_001.fastq.gz\n",
            "Analysis complete for SRR8599150_S1_L001_R1_001.fastq.gz\n",
            "Started analysis of SRR8599150_S1_L001_R2_001.fastq.gz\n",
            "Approx 5% complete for SRR8599150_S1_L001_R2_001.fastq.gz\n",
            "Approx 10% complete for SRR8599150_S1_L001_R2_001.fastq.gz\n",
            "Approx 15% complete for SRR8599150_S1_L001_R2_001.fastq.gz\n",
            "Approx 20% complete for SRR8599150_S1_L001_R2_001.fastq.gz\n",
            "Approx 25% complete for SRR8599150_S1_L001_R2_001.fastq.gz\n",
            "Approx 30% complete for SRR8599150_S1_L001_R2_001.fastq.gz\n",
            "Approx 35% complete for SRR8599150_S1_L001_R2_001.fastq.gz\n",
            "Approx 40% complete for SRR8599150_S1_L001_R2_001.fastq.gz\n",
            "Approx 45% complete for SRR8599150_S1_L001_R2_001.fastq.gz\n",
            "Approx 50% complete for SRR8599150_S1_L001_R2_001.fastq.gz\n",
            "Approx 55% complete for SRR8599150_S1_L001_R2_001.fastq.gz\n",
            "Approx 60% complete for SRR8599150_S1_L001_R2_001.fastq.gz\n",
            "Approx 65% complete for SRR8599150_S1_L001_R2_001.fastq.gz\n",
            "Approx 70% complete for SRR8599150_S1_L001_R2_001.fastq.gz\n",
            "Approx 75% complete for SRR8599150_S1_L001_R2_001.fastq.gz\n",
            "Approx 80% complete for SRR8599150_S1_L001_R2_001.fastq.gz\n",
            "Approx 85% complete for SRR8599150_S1_L001_R2_001.fastq.gz\n",
            "Approx 90% complete for SRR8599150_S1_L001_R2_001.fastq.gz\n",
            "Approx 95% complete for SRR8599150_S1_L001_R2_001.fastq.gz\n",
            "Analysis complete for SRR8599150_S1_L001_R2_001.fastq.gz\n"
          ]
        }
      ],
      "source": [
        "# Pre-alignment QA \n",
        "!fastqc SRR8599150_S1_L001_R1_001.fastq.gz\n",
        "!fastqc SRR8599150_S1_L001_R2_001.fastq.gz"
      ]
    },
    {
      "cell_type": "code",
      "source": [
        "!kallisto index -i transcripts.idx SRR8599150_S1_L001_R1_001.fastq.gz "
      ],
      "metadata": {
        "colab": {
          "base_uri": "https://localhost:8080/"
        },
        "id": "lCYDox3yfXiL",
        "outputId": "d961299d-b49e-46a4-a4ac-eff342412308"
      },
      "execution_count": null,
      "outputs": [
        {
          "output_type": "stream",
          "name": "stdout",
          "text": [
            "\n",
            "[build] loading fasta file SRR8599150_S1_L001_R1_001.fastq.gz\n",
            "[build] k-mer length: 31\n",
            "[build] warning: clipped off poly-A tail (longer than 10)\n",
            "        from 157 target sequences\n",
            "[build] warning: replaced 158426 non-ACGUT characters in the input sequence\n",
            "        with pseudorandom nucleotides\n",
            "[build] counting k-mers ... done.\n",
            "[build] building target de Bruijn graph ...  done \n",
            "[build] creating equivalence classes ...  done\n",
            "[build] target de Bruijn graph has 0 contigs and contains 0 k-mers \n",
            "\n"
          ]
        }
      ]
    },
    {
      "cell_type": "code",
      "source": [
        "!kallisto quant -i transcripts.idx -o output -b 100 SRR8599150_S1_L001_R1_001.fastq.gz SRR8599150_S1_L001_R2_001.fastq.gz\n"
      ],
      "metadata": {
        "colab": {
          "base_uri": "https://localhost:8080/"
        },
        "id": "5EmL9r_PZWBM",
        "outputId": "0842639c-773a-4b0f-b7e8-2d45c26e907b"
      },
      "execution_count": null,
      "outputs": [
        {
          "output_type": "stream",
          "name": "stdout",
          "text": [
            "\n",
            "[quant] fragment length distribution will be estimated from the data\n",
            "[index] k-mer length: 31\n",
            "[index] number of targets: 8,860,361\n",
            "[index] number of k-mers: 0\n",
            "[index] number of equivalence classes: 8,860,361\n",
            "[quant] running in paired-end mode\n",
            "[quant] will process pair 1: SRR8599150_S1_L001_R1_001.fastq.gz\n",
            "                             SRR8599150_S1_L001_R2_001.fastq.gz\n",
            "[quant] finding pseudoalignments for the reads ... done\n",
            "[quant] processed 8,860,361 reads, 0 reads pseudoaligned\n",
            "[~warn] no reads pseudoaligned.\n",
            "[quant] estimated average fragment length: 0\n",
            "[   em] quantifying the abundances ... done\n",
            "[   em] the Expectation-Maximization algorithm ran for 52 rounds\n",
            "terminate called after throwing an instance of 'std::domain_error'\n",
            "  what():  nsamp must be -1 or >=1\n"
          ]
        }
      ]
    },
    {
      "cell_type": "code",
      "source": [
        "!kallisto quant -i transcripts.idx -o output -b 100 <(gzcat SRR8599150_S1_L001_R1_001.fastq.gz) <(gzcat SRR8599150_S1_L001_R2_001.fastq.gz)"
      ],
      "metadata": {
        "colab": {
          "base_uri": "https://localhost:8080/"
        },
        "id": "KS_RGLophStG",
        "outputId": "6aa6c7d5-bf68-4e2a-850b-4a4121abce3c"
      },
      "execution_count": null,
      "outputs": [
        {
          "output_type": "stream",
          "name": "stdout",
          "text": [
            "/bin/bash: gzcat: command not found\n",
            "/bin/bash: gzcat: command not found\n",
            "\n",
            "[quant] fragment length distribution will be estimated from the data\n",
            "[index] k-mer length: 31\n",
            "[index] number of targets: 8,860,361\n",
            "[index] number of k-mers: 0\n",
            "[index] number of equivalence classes: 8,860,361\n",
            "[quant] running in paired-end mode\n",
            "[quant] will process pair 1: /dev/fd/63\n",
            "                             /dev/fd/62\n",
            "[quant] finding pseudoalignments for the reads ... done\n",
            "[quant] processed 0 reads, 0 reads pseudoaligned\n",
            "[~warn] no reads pseudoaligned.\n",
            "[quant] estimated average fragment length: 0\n",
            "[   em] quantifying the abundances ... done\n",
            "[   em] the Expectation-Maximization algorithm ran for 52 rounds\n",
            "terminate called after throwing an instance of 'std::domain_error'\n",
            "  what():  nsamp must be -1 or >=1\n"
          ]
        }
      ]
    },
    {
      "cell_type": "code",
      "source": [
        ""
      ],
      "metadata": {
        "id": "y2SCNA7qhVzZ"
      },
      "execution_count": null,
      "outputs": []
    }
  ],
  "metadata": {
    "accelerator": "TPU",
    "colab": {
      "name": "TPM_from_FastQ.ipynb",
      "provenance": [],
      "authorship_tag": "ABX9TyOHPL3KGo39ctDafZlFf0Lj",
      "include_colab_link": true
    },
    "kernelspec": {
      "display_name": "Python 3",
      "name": "python3"
    },
    "language_info": {
      "name": "python"
    }
  },
  "nbformat": 4,
  "nbformat_minor": 0
}